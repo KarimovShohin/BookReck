{
 "cells": [
  {
   "cell_type": "code",
   "execution_count": 4,
   "metadata": {},
   "outputs": [],
   "source": [
    "import pandas as pd"
   ]
  },
  {
   "cell_type": "code",
   "execution_count": 11,
   "metadata": {},
   "outputs": [],
   "source": [
    "import requests\n",
    "\n",
    "def get_book_info(isbn):\n",
    "    api_url = f\"https://www.googleapis.com/books/v1/volumes?q=isbn:{isbn}\"\n",
    "    response = requests.get(api_url)\n",
    "    \n",
    "    if response.status_code == 200:\n",
    "        book_data = response.json()\n",
    "        if \"items\" in book_data:\n",
    "            volume_info = book_data[\"items\"][0][\"volumeInfo\"]\n",
    "            title = volume_info.get(\"title\", \"Нет названия\")\n",
    "            authors = volume_info.get(\"authors\", [\"Нет авторов\"])\n",
    "            published_date = volume_info.get(\"publishedDate\", \"Нет даты публикации\")\n",
    "            page_count = volume_info.get(\"pageCount\", \"Нет информации о количестве страниц\")\n",
    "            \n",
    "            print(f\"Title: {title}\")\n",
    "            print(f\"Authors: {', '.join(authors)}\")\n",
    "            print(f\"Published Date: {published_date}\")\n",
    "            print(f\"Page Count: {page_count}\")\n",
    "        else:\n",
    "            print(\"Книга не найдена.\")\n",
    "    else:\n",
    "        print(\"Ошибка при запросе данных:\", response.status_code)\n",
    "\n"
   ]
  },
  {
   "cell_type": "code",
   "execution_count": 20,
   "metadata": {},
   "outputs": [],
   "source": [
    "import requests\n",
    "\n",
    "def get_book_details(isbn):\n",
    "    api_url = f\"https://www.googleapis.com/books/v1/volumes?q=isbn:{isbn}\"\n",
    "    response = requests.get(api_url)\n",
    "    \n",
    "    if response.status_code == 200:\n",
    "        book_data = response.json()\n",
    "        if \"items\" in book_data:\n",
    "            volume_info = book_data[\"items\"][0][\"volumeInfo\"]\n",
    "            description = volume_info.get(\"description\", \"Нет описания\")\n",
    "            genres = volume_info.get(\"categories\", [\"Нет жанров\"])\n",
    "        \n",
    "            return f\"{', '.join(genres)}\"\n",
    "        else:\n",
    "            return \"Книга не найдена.\"\n",
    "    else:\n",
    "        return \"Ошибка при запросе данных\""
   ]
  },
  {
   "cell_type": "code",
   "execution_count": 54,
   "metadata": {},
   "outputs": [
    {
     "data": {
      "text/plain": [
       "'Книга не найдена.'"
      ]
     },
     "execution_count": 54,
     "metadata": {},
     "output_type": "execute_result"
    }
   ],
   "source": [
    "# Пример использования\n",
    "isbn_input = input(\"Введите ISBN книги: \")\n",
    "get_book_details(isbn_input)"
   ]
  },
  {
   "cell_type": "code",
   "execution_count": 41,
   "metadata": {},
   "outputs": [
    {
     "data": {
      "text/plain": [
       "'Книга не найдена.'"
      ]
     },
     "execution_count": 41,
     "metadata": {},
     "output_type": "execute_result"
    }
   ],
   "source": [
    "get_book_details(342342343)"
   ]
  },
  {
   "cell_type": "code",
   "execution_count": 102,
   "metadata": {},
   "outputs": [
    {
     "name": "stderr",
     "output_type": "stream",
     "text": [
      "<>:1: SyntaxWarning: invalid escape sequence '\\B'\n",
      "<>:2: SyntaxWarning: invalid escape sequence '\\R'\n",
      "<>:1: SyntaxWarning: invalid escape sequence '\\B'\n",
      "<>:2: SyntaxWarning: invalid escape sequence '\\R'\n",
      "C:\\Users\\Karimov\\AppData\\Local\\Temp\\ipykernel_13072\\4186019406.py:1: SyntaxWarning: invalid escape sequence '\\B'\n",
      "  books = pd.read_csv('Files\\\\archive\\Books.csv')\n",
      "C:\\Users\\Karimov\\AppData\\Local\\Temp\\ipykernel_13072\\4186019406.py:2: SyntaxWarning: invalid escape sequence '\\R'\n",
      "  ratings = pd.read_csv('Files\\\\archive\\Ratings.csv')\n",
      "C:\\Users\\Karimov\\AppData\\Local\\Temp\\ipykernel_13072\\4186019406.py:1: DtypeWarning: Columns (3) have mixed types. Specify dtype option on import or set low_memory=False.\n",
      "  books = pd.read_csv('Files\\\\archive\\Books.csv')\n"
     ]
    }
   ],
   "source": [
    "books = pd.read_csv(r'Files\\\\archive\\Books.csv')\n",
    "ratings = pd.read_csv(r'Files\\\\archive\\\\Ratings.csv')\n",
    "users = pd.read_csv(r'Files\\\\archive\\\\Users.csv')"
   ]
  },
  {
   "cell_type": "code",
   "execution_count": 103,
   "metadata": {},
   "outputs": [],
   "source": [
    "id_for_remove = []"
   ]
  },
  {
   "cell_type": "code",
   "execution_count": 143,
   "metadata": {},
   "outputs": [
    {
     "data": {
      "text/html": [
       "<div>\n",
       "<style scoped>\n",
       "    .dataframe tbody tr th:only-of-type {\n",
       "        vertical-align: middle;\n",
       "    }\n",
       "\n",
       "    .dataframe tbody tr th {\n",
       "        vertical-align: top;\n",
       "    }\n",
       "\n",
       "    .dataframe thead th {\n",
       "        text-align: right;\n",
       "    }\n",
       "</style>\n",
       "<table border=\"1\" class=\"dataframe\">\n",
       "  <thead>\n",
       "    <tr style=\"text-align: right;\">\n",
       "      <th></th>\n",
       "      <th>ISBN</th>\n",
       "      <th>Book-Title</th>\n",
       "      <th>Book-Author</th>\n",
       "      <th>Year-Of-Publication</th>\n",
       "      <th>Publisher</th>\n",
       "      <th>Image-URL-S</th>\n",
       "      <th>Image-URL-M</th>\n",
       "      <th>Image-URL-L</th>\n",
       "    </tr>\n",
       "  </thead>\n",
       "  <tbody>\n",
       "    <tr>\n",
       "      <th>149479</th>\n",
       "      <td>0553219944</td>\n",
       "      <td>Any Thursday (Loveswept, No 328)</td>\n",
       "      <td>Peggy Webb</td>\n",
       "      <td>1989</td>\n",
       "      <td>Loveswept</td>\n",
       "      <td>http://images.amazon.com/images/P/0553219944.0...</td>\n",
       "      <td>http://images.amazon.com/images/P/0553219944.0...</td>\n",
       "      <td>http://images.amazon.com/images/P/0553219944.0...</td>\n",
       "    </tr>\n",
       "    <tr>\n",
       "      <th>112680</th>\n",
       "      <td>0393955370</td>\n",
       "      <td>The Spanish American Revolution 1808-1826 (Rev...</td>\n",
       "      <td>John Lynch</td>\n",
       "      <td>1986</td>\n",
       "      <td>W. W. Norton &amp;amp; Company</td>\n",
       "      <td>http://images.amazon.com/images/P/0393955370.0...</td>\n",
       "      <td>http://images.amazon.com/images/P/0393955370.0...</td>\n",
       "      <td>http://images.amazon.com/images/P/0393955370.0...</td>\n",
       "    </tr>\n",
       "    <tr>\n",
       "      <th>134990</th>\n",
       "      <td>0307257932</td>\n",
       "      <td>Poochie &amp;amp; Guff</td>\n",
       "      <td>Marvin Terban</td>\n",
       "      <td>1983</td>\n",
       "      <td>Western Publishing Company</td>\n",
       "      <td>http://images.amazon.com/images/P/0307257932.0...</td>\n",
       "      <td>http://images.amazon.com/images/P/0307257932.0...</td>\n",
       "      <td>http://images.amazon.com/images/P/0307257932.0...</td>\n",
       "    </tr>\n",
       "  </tbody>\n",
       "</table>\n",
       "</div>"
      ],
      "text/plain": [
       "              ISBN                                         Book-Title  \\\n",
       "149479  0553219944                   Any Thursday (Loveswept, No 328)   \n",
       "112680  0393955370  The Spanish American Revolution 1808-1826 (Rev...   \n",
       "134990  0307257932                                 Poochie &amp; Guff   \n",
       "\n",
       "          Book-Author Year-Of-Publication                   Publisher  \\\n",
       "149479     Peggy Webb                1989                   Loveswept   \n",
       "112680     John Lynch                1986  W. W. Norton &amp; Company   \n",
       "134990  Marvin Terban                1983  Western Publishing Company   \n",
       "\n",
       "                                              Image-URL-S  \\\n",
       "149479  http://images.amazon.com/images/P/0553219944.0...   \n",
       "112680  http://images.amazon.com/images/P/0393955370.0...   \n",
       "134990  http://images.amazon.com/images/P/0307257932.0...   \n",
       "\n",
       "                                              Image-URL-M  \\\n",
       "149479  http://images.amazon.com/images/P/0553219944.0...   \n",
       "112680  http://images.amazon.com/images/P/0393955370.0...   \n",
       "134990  http://images.amazon.com/images/P/0307257932.0...   \n",
       "\n",
       "                                              Image-URL-L  \n",
       "149479  http://images.amazon.com/images/P/0553219944.0...  \n",
       "112680  http://images.amazon.com/images/P/0393955370.0...  \n",
       "134990  http://images.amazon.com/images/P/0307257932.0...  "
      ]
     },
     "execution_count": 143,
     "metadata": {},
     "output_type": "execute_result"
    }
   ],
   "source": [
    "books.sample(3)"
   ]
  },
  {
   "cell_type": "code",
   "execution_count": 144,
   "metadata": {},
   "outputs": [],
   "source": [
    "for c in ['Book-Title', 'Book-Author', 'Image-URL-L']:\n",
    "    for x in books[books[c].isna()]['ISBN']:\n",
    "        if x not in id_for_remove:id_for_remove.append(x)"
   ]
  },
  {
   "cell_type": "code",
   "execution_count": 239,
   "metadata": {},
   "outputs": [],
   "source": [
    "for x in ['Image-URL-S', 'Image-URL-M']:\n",
    "    del books[x]"
   ]
  },
  {
   "cell_type": "code",
   "execution_count": 243,
   "metadata": {},
   "outputs": [],
   "source": [
    "books.rename(columns={'Image-URL-M':'Image-URL'}, inplace=True)"
   ]
  },
  {
   "cell_type": "code",
   "execution_count": 248,
   "metadata": {},
   "outputs": [],
   "source": [
    "books = books[~books['ISBN'].isin(id_for_remove)]"
   ]
  },
  {
   "cell_type": "code",
   "execution_count": 254,
   "metadata": {},
   "outputs": [],
   "source": [
    "books.to_csv('Books.csv', index=False)"
   ]
  },
  {
   "cell_type": "code",
   "execution_count": 148,
   "metadata": {},
   "outputs": [
    {
     "data": {
      "text/plain": [
       "1149780"
      ]
     },
     "execution_count": 148,
     "metadata": {},
     "output_type": "execute_result"
    }
   ],
   "source": [
    "ratings.shape[0]"
   ]
  },
  {
   "cell_type": "code",
   "execution_count": 257,
   "metadata": {},
   "outputs": [],
   "source": [
    "ratings = ratings[~ratings['ISBN'].isin(id_for_remove)]"
   ]
  },
  {
   "cell_type": "code",
   "execution_count": 149,
   "metadata": {},
   "outputs": [],
   "source": [
    "import math\n",
    "def combinatorrica(x, y):\n",
    "    return (math.factorial(x)/(math.factorial(y)*math.factorial(x-y)))"
   ]
  },
  {
   "cell_type": "code",
   "execution_count": 205,
   "metadata": {},
   "outputs": [
    {
     "data": {
      "text/plain": [
       "264488500.0"
      ]
     },
     "execution_count": 205,
     "metadata": {},
     "output_type": "execute_result"
    }
   ],
   "source": [
    "combinatorrica(23000, 2)"
   ]
  },
  {
   "cell_type": "code",
   "execution_count": 265,
   "metadata": {},
   "outputs": [],
   "source": [
    "ls = dict(ratings.groupby('User-ID')['ISBN'].count().sort_values())"
   ]
  },
  {
   "cell_type": "code",
   "execution_count": 273,
   "metadata": {},
   "outputs": [],
   "source": [
    "index_to_del = []\n",
    "for y in ls.keys():\n",
    "    if ls[y] < 10:\n",
    "        index_to_del.append(y)"
   ]
  },
  {
   "cell_type": "code",
   "execution_count": 279,
   "metadata": {},
   "outputs": [
    {
     "data": {
      "text/html": [
       "<div>\n",
       "<style scoped>\n",
       "    .dataframe tbody tr th:only-of-type {\n",
       "        vertical-align: middle;\n",
       "    }\n",
       "\n",
       "    .dataframe tbody tr th {\n",
       "        vertical-align: top;\n",
       "    }\n",
       "\n",
       "    .dataframe thead th {\n",
       "        text-align: right;\n",
       "    }\n",
       "</style>\n",
       "<table border=\"1\" class=\"dataframe\">\n",
       "  <thead>\n",
       "    <tr style=\"text-align: right;\">\n",
       "      <th></th>\n",
       "      <th>User-ID</th>\n",
       "      <th>ISBN</th>\n",
       "      <th>Book-Rating</th>\n",
       "    </tr>\n",
       "  </thead>\n",
       "  <tbody>\n",
       "    <tr>\n",
       "      <th>31</th>\n",
       "      <td>276762</td>\n",
       "      <td>034544003X</td>\n",
       "      <td>0</td>\n",
       "    </tr>\n",
       "    <tr>\n",
       "      <th>32</th>\n",
       "      <td>276762</td>\n",
       "      <td>0380000059</td>\n",
       "      <td>0</td>\n",
       "    </tr>\n",
       "    <tr>\n",
       "      <th>33</th>\n",
       "      <td>276762</td>\n",
       "      <td>0380711524</td>\n",
       "      <td>5</td>\n",
       "    </tr>\n",
       "    <tr>\n",
       "      <th>34</th>\n",
       "      <td>276762</td>\n",
       "      <td>0451167317</td>\n",
       "      <td>0</td>\n",
       "    </tr>\n",
       "    <tr>\n",
       "      <th>35</th>\n",
       "      <td>276762</td>\n",
       "      <td>0451454952</td>\n",
       "      <td>0</td>\n",
       "    </tr>\n",
       "    <tr>\n",
       "      <th>...</th>\n",
       "      <td>...</td>\n",
       "      <td>...</td>\n",
       "      <td>...</td>\n",
       "    </tr>\n",
       "    <tr>\n",
       "      <th>1149771</th>\n",
       "      <td>276704</td>\n",
       "      <td>0743211383</td>\n",
       "      <td>7</td>\n",
       "    </tr>\n",
       "    <tr>\n",
       "      <th>1149772</th>\n",
       "      <td>276704</td>\n",
       "      <td>080410526X</td>\n",
       "      <td>0</td>\n",
       "    </tr>\n",
       "    <tr>\n",
       "      <th>1149773</th>\n",
       "      <td>276704</td>\n",
       "      <td>0806917695</td>\n",
       "      <td>5</td>\n",
       "    </tr>\n",
       "    <tr>\n",
       "      <th>1149774</th>\n",
       "      <td>276704</td>\n",
       "      <td>0876044011</td>\n",
       "      <td>0</td>\n",
       "    </tr>\n",
       "    <tr>\n",
       "      <th>1149775</th>\n",
       "      <td>276704</td>\n",
       "      <td>1563526298</td>\n",
       "      <td>9</td>\n",
       "    </tr>\n",
       "  </tbody>\n",
       "</table>\n",
       "<p>965707 rows × 3 columns</p>\n",
       "</div>"
      ],
      "text/plain": [
       "         User-ID        ISBN  Book-Rating\n",
       "31        276762  034544003X            0\n",
       "32        276762  0380000059            0\n",
       "33        276762  0380711524            5\n",
       "34        276762  0451167317            0\n",
       "35        276762  0451454952            0\n",
       "...          ...         ...          ...\n",
       "1149771   276704  0743211383            7\n",
       "1149772   276704  080410526X            0\n",
       "1149773   276704  0806917695            5\n",
       "1149774   276704  0876044011            0\n",
       "1149775   276704  1563526298            9\n",
       "\n",
       "[965707 rows x 3 columns]"
      ]
     },
     "execution_count": 279,
     "metadata": {},
     "output_type": "execute_result"
    }
   ],
   "source": [
    "ratings[~ratings['User-ID'].isin(index_to_del)]"
   ]
  },
  {
   "cell_type": "code",
   "execution_count": 275,
   "metadata": {},
   "outputs": [
    {
     "data": {
      "text/plain": [
       "92186"
      ]
     },
     "execution_count": 275,
     "metadata": {},
     "output_type": "execute_result"
    }
   ],
   "source": [
    "len(index_to_del)"
   ]
  },
  {
   "cell_type": "code",
   "execution_count": 231,
   "metadata": {},
   "outputs": [],
   "source": [
    "index = []\n",
    "for x in ls.index:\n",
    "    if ls[x] < 400:\n",
    "        index.append(x)"
   ]
  },
  {
   "cell_type": "code",
   "execution_count": 232,
   "metadata": {},
   "outputs": [
    {
     "name": "stdout",
     "output_type": "stream",
     "text": [
      "278858 - 104878 = 173980\n"
     ]
    }
   ],
   "source": [
    "print(f'{users.shape[0]} - {len(index)} = {users[~users['User-ID'].isin(index)].shape[0]}')"
   ]
  },
  {
   "cell_type": "code",
   "execution_count": 204,
   "metadata": {},
   "outputs": [
    {
     "data": {
      "text/plain": [
       "82467"
      ]
     },
     "execution_count": 204,
     "metadata": {},
     "output_type": "execute_result"
    }
   ],
   "source": [
    "len(index)"
   ]
  },
  {
   "cell_type": "code",
   "execution_count": 173,
   "metadata": {},
   "outputs": [
    {
     "data": {
      "text/plain": [
       "array([    1,     1,     1, ...,  6109,  7550, 13602])"
      ]
     },
     "execution_count": 173,
     "metadata": {},
     "output_type": "execute_result"
    }
   ],
   "source": [
    "counts_ratings"
   ]
  },
  {
   "cell_type": "code",
   "execution_count": 172,
   "metadata": {},
   "outputs": [
    {
     "data": {
      "text/plain": [
       "<bound method IndexOpsMixin.value_counts of 0             1\n",
       "1             1\n",
       "2             1\n",
       "3             1\n",
       "4             1\n",
       "          ...  \n",
       "105278     5850\n",
       "105279     5891\n",
       "105280     6109\n",
       "105281     7550\n",
       "105282    13602\n",
       "Length: 105283, dtype: int64>"
      ]
     },
     "execution_count": 172,
     "metadata": {},
     "output_type": "execute_result"
    }
   ],
   "source": [
    "pd.Series(counts_ratings).value_counts"
   ]
  },
  {
   "cell_type": "code",
   "execution_count": 278,
   "metadata": {},
   "outputs": [
    {
     "name": "stdout",
     "output_type": "stream",
     "text": [
      "271355\n",
      "1149774\n",
      "278858\n"
     ]
    }
   ],
   "source": [
    "print(books.shape[0])\n",
    "print(ratings.shape[0])\n",
    "print(users.shape[0])"
   ]
  },
  {
   "cell_type": "code",
   "execution_count": 280,
   "metadata": {},
   "outputs": [
    {
     "data": {
      "text/html": [
       "<div>\n",
       "<style scoped>\n",
       "    .dataframe tbody tr th:only-of-type {\n",
       "        vertical-align: middle;\n",
       "    }\n",
       "\n",
       "    .dataframe tbody tr th {\n",
       "        vertical-align: top;\n",
       "    }\n",
       "\n",
       "    .dataframe thead th {\n",
       "        text-align: right;\n",
       "    }\n",
       "</style>\n",
       "<table border=\"1\" class=\"dataframe\">\n",
       "  <thead>\n",
       "    <tr style=\"text-align: right;\">\n",
       "      <th></th>\n",
       "      <th>User-ID</th>\n",
       "      <th>ISBN</th>\n",
       "      <th>Book-Rating</th>\n",
       "    </tr>\n",
       "  </thead>\n",
       "  <tbody>\n",
       "    <tr>\n",
       "      <th>0</th>\n",
       "      <td>276725</td>\n",
       "      <td>034545104X</td>\n",
       "      <td>0</td>\n",
       "    </tr>\n",
       "    <tr>\n",
       "      <th>1</th>\n",
       "      <td>276726</td>\n",
       "      <td>0155061224</td>\n",
       "      <td>5</td>\n",
       "    </tr>\n",
       "    <tr>\n",
       "      <th>2</th>\n",
       "      <td>276727</td>\n",
       "      <td>0446520802</td>\n",
       "      <td>0</td>\n",
       "    </tr>\n",
       "    <tr>\n",
       "      <th>3</th>\n",
       "      <td>276729</td>\n",
       "      <td>052165615X</td>\n",
       "      <td>3</td>\n",
       "    </tr>\n",
       "    <tr>\n",
       "      <th>4</th>\n",
       "      <td>276729</td>\n",
       "      <td>0521795028</td>\n",
       "      <td>6</td>\n",
       "    </tr>\n",
       "    <tr>\n",
       "      <th>...</th>\n",
       "      <td>...</td>\n",
       "      <td>...</td>\n",
       "      <td>...</td>\n",
       "    </tr>\n",
       "    <tr>\n",
       "      <th>1149775</th>\n",
       "      <td>276704</td>\n",
       "      <td>1563526298</td>\n",
       "      <td>9</td>\n",
       "    </tr>\n",
       "    <tr>\n",
       "      <th>1149776</th>\n",
       "      <td>276706</td>\n",
       "      <td>0679447156</td>\n",
       "      <td>0</td>\n",
       "    </tr>\n",
       "    <tr>\n",
       "      <th>1149777</th>\n",
       "      <td>276709</td>\n",
       "      <td>0515107662</td>\n",
       "      <td>10</td>\n",
       "    </tr>\n",
       "    <tr>\n",
       "      <th>1149778</th>\n",
       "      <td>276721</td>\n",
       "      <td>0590442449</td>\n",
       "      <td>10</td>\n",
       "    </tr>\n",
       "    <tr>\n",
       "      <th>1149779</th>\n",
       "      <td>276723</td>\n",
       "      <td>05162443314</td>\n",
       "      <td>8</td>\n",
       "    </tr>\n",
       "  </tbody>\n",
       "</table>\n",
       "<p>1149774 rows × 3 columns</p>\n",
       "</div>"
      ],
      "text/plain": [
       "         User-ID         ISBN  Book-Rating\n",
       "0         276725   034545104X            0\n",
       "1         276726   0155061224            5\n",
       "2         276727   0446520802            0\n",
       "3         276729   052165615X            3\n",
       "4         276729   0521795028            6\n",
       "...          ...          ...          ...\n",
       "1149775   276704   1563526298            9\n",
       "1149776   276706   0679447156            0\n",
       "1149777   276709   0515107662           10\n",
       "1149778   276721   0590442449           10\n",
       "1149779   276723  05162443314            8\n",
       "\n",
       "[1149774 rows x 3 columns]"
      ]
     },
     "execution_count": 280,
     "metadata": {},
     "output_type": "execute_result"
    }
   ],
   "source": []
  },
  {
   "cell_type": "code",
   "execution_count": 281,
   "metadata": {},
   "outputs": [],
   "source": [
    "books = pd.read_csv('Books.csv')"
   ]
  },
  {
   "cell_type": "code",
   "execution_count": 290,
   "metadata": {},
   "outputs": [],
   "source": [
    "books.to_csv('Books.csv', index=False)"
   ]
  },
  {
   "cell_type": "code",
   "execution_count": 298,
   "metadata": {},
   "outputs": [],
   "source": [
    "ratings.to_csv('Ratings.csv', index=False)"
   ]
  },
  {
   "cell_type": "code",
   "execution_count": 330,
   "metadata": {},
   "outputs": [],
   "source": [
    "users.to_csv('users.csv', index=False)"
   ]
  },
  {
   "cell_type": "code",
   "execution_count": 337,
   "metadata": {},
   "outputs": [],
   "source": [
    "tables = ['books', 'users', 'ratings']"
   ]
  },
  {
   "cell_type": "code",
   "execution_count": 319,
   "metadata": {},
   "outputs": [],
   "source": [
    "qu = \"\"\"\n",
    "create table books (\n",
    "    isbn text not null unique\n",
    "    , book_title text\n",
    "    , book_author text\n",
    "    , year_of_publication integer\n",
    "    , publisher text\n",
    "    , image_url text\n",
    "    , primary key (isbn)\n",
    ");\n",
    "\n",
    "create table users (\n",
    "    user_id integer not null unique\n",
    "    , location text\n",
    "    , age int\n",
    "    , primary key (user_id)\n",
    ");\n",
    "\n",
    "create table ratings (\n",
    "    user_id integer not null\n",
    "    , isbn text not null\n",
    "    , book_rating int\n",
    "    , foreign key (user_id) references users(user_id)\n",
    "    , foreign key (isbn) references books(isbn)\n",
    ")\"\"\""
   ]
  },
  {
   "cell_type": "code",
   "execution_count": 304,
   "metadata": {},
   "outputs": [],
   "source": [
    "import duckdb"
   ]
  },
  {
   "cell_type": "code",
   "execution_count": 398,
   "metadata": {},
   "outputs": [],
   "source": [
    "connect = duckdb.connect('books.db')"
   ]
  },
  {
   "cell_type": "code",
   "execution_count": 399,
   "metadata": {},
   "outputs": [],
   "source": [
    "connect.query(qu)"
   ]
  },
  {
   "cell_type": "code",
   "execution_count": 341,
   "metadata": {},
   "outputs": [
    {
     "data": {
      "text/plain": [
       "['books', 'users', 'ratings']"
      ]
     },
     "execution_count": 341,
     "metadata": {},
     "output_type": "execute_result"
    }
   ],
   "source": [
    "tables "
   ]
  },
  {
   "cell_type": "code",
   "execution_count": 400,
   "metadata": {},
   "outputs": [],
   "source": [
    "for table in tables:                \n",
    "        df = pd.read_csv(f'{table}.csv')\n",
    "        connect.query(f\"\"\"\n",
    "            insert into {table}\n",
    "            select *\n",
    "            from df\n",
    "        \"\"\")"
   ]
  },
  {
   "cell_type": "code",
   "execution_count": 401,
   "metadata": {},
   "outputs": [],
   "source": [
    "connect.close()"
   ]
  },
  {
   "cell_type": "code",
   "execution_count": 382,
   "metadata": {},
   "outputs": [],
   "source": [
    "import numpy as np"
   ]
  },
  {
   "cell_type": "code",
   "execution_count": 387,
   "metadata": {},
   "outputs": [],
   "source": [
    "array1 = np.array(ratings.ISBN.unique().tolist())"
   ]
  },
  {
   "cell_type": "code",
   "execution_count": 388,
   "metadata": {},
   "outputs": [],
   "source": [
    "array2 = np.array(books['ISBN'].tolist())"
   ]
  },
  {
   "cell_type": "code",
   "execution_count": 378,
   "metadata": {},
   "outputs": [
    {
     "data": {
      "text/plain": [
       "20482"
      ]
     },
     "execution_count": 378,
     "metadata": {},
     "output_type": "execute_result"
    }
   ],
   "source": [
    "len(array)"
   ]
  },
  {
   "cell_type": "code",
   "execution_count": 390,
   "metadata": {},
   "outputs": [],
   "source": [
    "array3 = np.setdiff1d(array1, array2)"
   ]
  },
  {
   "cell_type": "code",
   "execution_count": 396,
   "metadata": {},
   "outputs": [],
   "source": [
    "ratings = ratings[~ratings['ISBN'].isin(array3)]"
   ]
  },
  {
   "cell_type": "code",
   "execution_count": null,
   "metadata": {},
   "outputs": [],
   "source": [
    "array"
   ]
  },
  {
   "cell_type": "code",
   "execution_count": 368,
   "metadata": {},
   "outputs": [
    {
     "data": {
      "text/plain": [
       "0"
      ]
     },
     "execution_count": 368,
     "metadata": {},
     "output_type": "execute_result"
    }
   ],
   "source": [
    "len(array)"
   ]
  },
  {
   "cell_type": "code",
   "execution_count": 347,
   "metadata": {},
   "outputs": [],
   "source": [
    "array = [x for x in isbn_index if x not in books['ISBN']]"
   ]
  }
 ],
 "metadata": {
  "kernelspec": {
   "display_name": "Python 3",
   "language": "python",
   "name": "python3"
  },
  "language_info": {
   "codemirror_mode": {
    "name": "ipython",
    "version": 3
   },
   "file_extension": ".py",
   "mimetype": "text/x-python",
   "name": "python",
   "nbconvert_exporter": "python",
   "pygments_lexer": "ipython3",
   "version": "3.12.7"
  }
 },
 "nbformat": 4,
 "nbformat_minor": 2
}
