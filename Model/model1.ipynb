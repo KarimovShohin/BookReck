{
 "cells": [
  {
   "cell_type": "code",
   "execution_count": 65,
   "metadata": {},
   "outputs": [],
   "source": [
    "import pandas as pd\n",
    "import json\n",
    "from connector import set_connection"
   ]
  },
  {
   "cell_type": "code",
   "execution_count": 7,
   "metadata": {},
   "outputs": [],
   "source": [
    "with open('model.json', 'r', encoding='utf-8') as file:\n",
    "    model = json.load(file)\n"
   ]
  },
  {
   "cell_type": "code",
   "execution_count": 8,
   "metadata": {},
   "outputs": [],
   "source": [
    "model['head'].remove('0425160394')"
   ]
  },
  {
   "cell_type": "code",
   "execution_count": 66,
   "metadata": {},
   "outputs": [],
   "source": [
    "def run_query(query:str):\n",
    "    with set_connection() as dd:\n",
    "        return dd.query(query).to_df()    "
   ]
  },
  {
   "cell_type": "code",
   "execution_count": 3,
   "metadata": {},
   "outputs": [],
   "source": [
    "def get_cross_books(books_1, books_2):\n",
    "    return list(set(books_1) & set(books_2))"
   ]
  },
  {
   "cell_type": "code",
   "execution_count": 18,
   "metadata": {},
   "outputs": [],
   "source": [
    "def sort_keys_by_values(input_dict):\n",
    "\n",
    "    sorted_keys = sorted(input_dict.keys(), key=lambda k: input_dict[k], reverse=True)\n",
    "    return sorted_keys"
   ]
  },
  {
   "cell_type": "code",
   "execution_count": 24,
   "metadata": {},
   "outputs": [],
   "source": [
    "def get_user_group(user_books:dict, model:dict, n_groups:int=10):\n",
    "    groups = model['head']\n",
    "    \n",
    "    groups_similary = {}\n",
    "    \n",
    "    \n",
    "    for group in model['head']:\n",
    "    \n",
    "        group_1 = get_cross_books(model[group]['books'], list(user_books.keys()))\n",
    "        if len(group_1) != 0:\n",
    "            groups_similary[group] = sum([user_books[x] for x in group_1])/len(group_1)\n",
    "        else:\n",
    "            groups_similary[group] = 0\n",
    "    \n",
    "    return sort_keys_by_values(groups_similary)[:n_groups]    \n",
    "        "
   ]
  },
  {
   "cell_type": "code",
   "execution_count": null,
   "metadata": {},
   "outputs": [],
   "source": []
  },
  {
   "cell_type": "code",
   "execution_count": 81,
   "metadata": {},
   "outputs": [],
   "source": [
    "user_123 = {\n",
    "    'read_books':\n",
    "        {'0375400117':9,\n",
    "         '0553375059':10,\n",
    "         '0553285785':9,\n",
    "         '0385504209':9,\n",
    "         '0312303467':2\n",
    "         \n",
    "        },\n",
    "    'groups':[],\n",
    "    'same_users':[],\n",
    "    'books_for_rec':[]\n",
    "}"
   ]
  },
  {
   "cell_type": "code",
   "execution_count": 83,
   "metadata": {},
   "outputs": [],
   "source": [
    "user_123['groups'] = get_user_group(user_123['read_books'], model)"
   ]
  },
  {
   "cell_type": "code",
   "execution_count": 84,
   "metadata": {},
   "outputs": [
    {
     "data": {
      "text/plain": [
       "{'read_books': {'0375400117': 9,\n",
       "  '0553375059': 10,\n",
       "  '0553285785': 9,\n",
       "  '0385504209': 9,\n",
       "  '0312303467': 2},\n",
       " 'groups': ['059035342X',\n",
       "  '0671027387',\n",
       "  '0312995423',\n",
       "  '0743403452',\n",
       "  '0345350499',\n",
       "  '0316776963',\n",
       "  '0312422156',\n",
       "  '0671672797',\n",
       "  '0061094226',\n",
       "  '0425167313'],\n",
       " 'same_users': [],\n",
       " 'books_for_rec': []}"
      ]
     },
     "execution_count": 84,
     "metadata": {},
     "output_type": "execute_result"
    }
   ],
   "source": [
    "user_123"
   ]
  },
  {
   "cell_type": "code",
   "execution_count": 109,
   "metadata": {},
   "outputs": [],
   "source": [
    "def get_similar_num(user_0:list, user_1:list)-> int:\n",
    "    similar_num = 0\n",
    "    for x in range(len(user_1)):\n",
    "        similar_num +=  2 * (abs(user_0[x] - user_1[x]))\n",
    "    return similar_num/len(user_0)"
   ]
  },
  {
   "cell_type": "code",
   "execution_count": 123,
   "metadata": {},
   "outputs": [],
   "source": [
    "def get_similar_users(books:list, groups:list, model:dict, get_sililar=False):\n",
    "    \n",
    "    similar_users = {}\n",
    "    \n",
    "    for group in groups:\n",
    "        for user in model[group]['users']:\n",
    "            user_data = run_query(f\"\"\"select isbn, book_rating \n",
    "                                   from ratings \n",
    "                                   where user_id = {user}\"\"\").set_index('isbn')['book_rating'].to_dict()\n",
    "            \n",
    "            cross_books = get_cross_books(list(user_data.keys()), list(books.keys()))\n",
    "            \n",
    "            if len(cross_books) == 0:\n",
    "                continue\n",
    "            \n",
    "            similar_num = (get_similar_num([books[x] for x in cross_books],\n",
    "                                           [user_data[x] for x in cross_books]))/len(books.keys())\n",
    "            \n",
    "            if similar_num < 10:\n",
    "                similar_users[user] = similar_num\n",
    "    \n",
    "    \n",
    "    if get_sililar:\n",
    "        return similar_users\n",
    "    \n",
    "    return sort_keys_by_values(similar_users)[::-1]\n"
   ]
  },
  {
   "cell_type": "code",
   "execution_count": 126,
   "metadata": {},
   "outputs": [],
   "source": [
    "user_123['same_users'] = get_similar_users(user_123['read_books'], user_123['groups'], model)"
   ]
  },
  {
   "cell_type": "code",
   "execution_count": 127,
   "metadata": {},
   "outputs": [
    {
     "data": {
      "text/plain": [
       "{'read_books': {'0375400117': 9,\n",
       "  '0553375059': 10,\n",
       "  '0553285785': 9,\n",
       "  '0385504209': 9,\n",
       "  '0312303467': 2},\n",
       " 'groups': ['059035342X',\n",
       "  '0671027387',\n",
       "  '0312995423',\n",
       "  '0743403452',\n",
       "  '0345350499',\n",
       "  '0316776963',\n",
       "  '0312422156',\n",
       "  '0671672797',\n",
       "  '0061094226',\n",
       "  '0425167313'],\n",
       " 'same_users': [219301,\n",
       "  15602,\n",
       "  70594,\n",
       "  124720,\n",
       "  158226,\n",
       "  92810,\n",
       "  81484,\n",
       "  11676,\n",
       "  218608,\n",
       "  62659,\n",
       "  638,\n",
       "  49980,\n",
       "  28865,\n",
       "  75819,\n",
       "  60263,\n",
       "  10560,\n",
       "  220688,\n",
       "  242083,\n",
       "  97694,\n",
       "  229741,\n",
       "  112001,\n",
       "  235282,\n",
       "  128434,\n",
       "  239584,\n",
       "  69078,\n",
       "  100906,\n",
       "  54335,\n",
       "  24995,\n",
       "  180591,\n",
       "  100227,\n",
       "  104636],\n",
       " 'books_for_rec': []}"
      ]
     },
     "execution_count": 127,
     "metadata": {},
     "output_type": "execute_result"
    }
   ],
   "source": [
    "user_123"
   ]
  },
  {
   "cell_type": "code",
   "execution_count": 132,
   "metadata": {},
   "outputs": [],
   "source": [
    "def predict(user:dict, model:dict, n_book_for_rec:int):\n",
    "    from random import choice\n",
    "    \n",
    "    if len(user['groups']) == 0:\n",
    "        user['groups'] = get_user_group(user['read_books'], model)\n",
    "    \n",
    "    if len(user['same_users']) < 10:\n",
    "        user['same_users'] = get_similar_users(user['read_books'], user['groups'], model)\n",
    "    \n",
    "    if len(user['books_for_rec']) < n_book_for_rec:\n",
    "        for same_user in user['same_users']:\n",
    "            same_user_data =  run_query(f\"\"\"select isbn, book_rating \n",
    "                                   from ratings \n",
    "                                   where user_id = {same_user}\"\"\").set_index('isbn')['book_rating'].to_dict()\n",
    "            \n",
    "            same_books = get_cross_books(list(user['read_books'].keys()), list(same_user_data.keys()))\n",
    "            \n",
    "            for book in same_user_data.keys():\n",
    "                if book not in same_books and book not in user['read_books'] and same_user_data[book] > 7:\n",
    "                    user['books_for_rec'].append(book)\n",
    "    \n",
    "    book_for_rec = []\n",
    "    for _ in range(n_book_for_rec):\n",
    "        book_for_rec.append(choice(user['books_for_rec']))\n",
    "    \n",
    "    return book_for_rec\n",
    "        \n",
    "        \n",
    "            \n",
    "   "
   ]
  },
  {
   "cell_type": "code",
   "execution_count": 164,
   "metadata": {},
   "outputs": [
    {
     "data": {
      "text/plain": [
       "['0553250426',\n",
       " '0671034774',\n",
       " '0439368634',\n",
       " '0451403002',\n",
       " '8420601209',\n",
       " '344243372X',\n",
       " '3423130857',\n",
       " '0385326335',\n",
       " '1570717575',\n",
       " '0767912233']"
      ]
     },
     "execution_count": 164,
     "metadata": {},
     "output_type": "execute_result"
    }
   ],
   "source": [
    "predict(user_123, model, 10)"
   ]
  }
 ],
 "metadata": {
  "kernelspec": {
   "display_name": ".venv",
   "language": "python",
   "name": "python3"
  },
  "language_info": {
   "codemirror_mode": {
    "name": "ipython",
    "version": 3
   },
   "file_extension": ".py",
   "mimetype": "text/x-python",
   "name": "python",
   "nbconvert_exporter": "python",
   "pygments_lexer": "ipython3",
   "version": "3.12.7"
  }
 },
 "nbformat": 4,
 "nbformat_minor": 2
}
